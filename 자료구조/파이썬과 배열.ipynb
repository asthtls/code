{
 "cells": [
  {
   "cell_type": "markdown",
   "metadata": {},
   "source": [
    "# 꼭 알아둬야 할 자료구조: 배열(Array)"
   ]
  },
  {
   "cell_type": "markdown",
   "metadata": {},
   "source": [
    "- 데이터를 나열하고, 각 데이터를 인덱스에 대응하도록 구성한 데이터 구조\n",
    "- 파이썬에서는 리스트 타입이 배열 기능을 제공하고 있다."
   ]
  },
  {
   "cell_type": "markdown",
   "metadata": {},
   "source": [
    "## 1. 배열이 필요한 이유\n",
    "\n",
    "- 같은 종류의 데이터를 효율적으로 관리하기 위해 사용\n",
    "- 같은 종류의 데이터를 순차적으로 저장\n",
    "\n",
    "- 배열의 장점:\n",
    "    -빠른 접근 가능\n",
    "- 배열의 단점\n",
    "    -6의 데이터 배열을 사용하고 싶다면, 먼저 6자리의 배열을 선언해야 한다. 그리고 추가로 배열을 연결시키고 싶다해도 추가가 어렵다.\n",
    "    -추가/삭제가 쉽지 않다.\n",
    "    "
   ]
  },
  {
   "cell_type": "markdown",
   "metadata": {},
   "source": [
    "## 2. 파이썬과 C 언어의 배열 예제"
   ]
  },
  {
   "cell_type": "code",
   "execution_count": 2,
   "metadata": {
    "scrolled": true
   },
   "outputs": [
    {
     "ename": "SyntaxError",
     "evalue": "invalid syntax (<ipython-input-2-e6f18b3a9e81>, line 3)",
     "output_type": "error",
     "traceback": [
      "\u001b[0;36m  File \u001b[0;32m\"<ipython-input-2-e6f18b3a9e81>\"\u001b[0;36m, line \u001b[0;32m3\u001b[0m\n\u001b[0;31m    int main(int argc, char* argv[])\u001b[0m\n\u001b[0m           ^\u001b[0m\n\u001b[0;31mSyntaxError\u001b[0m\u001b[0;31m:\u001b[0m invalid syntax\n"
     ]
    }
   ],
   "source": [
    "#include <stdio.h>\n",
    "\n",
    "int main(int argc, char* argv[])\n",
    "{\n",
    "    char country[3] = \"US\";\n",
    "    printf(\"%c%c\\n\",country[0],country[1]);\n",
    "    printf(\"%s\\n\",country);\n",
    "    return 0;\n",
    "}"
   ]
  },
  {
   "cell_type": "code",
   "execution_count": 4,
   "metadata": {},
   "outputs": [
    {
     "name": "stdout",
     "output_type": "stream",
     "text": [
      "US\n",
      "USA\n"
     ]
    }
   ],
   "source": [
    "country = \"US\"\n",
    "print(country)\n",
    "\n",
    "country = country +\"A\"\n",
    "print(country)\n",
    "\n"
   ]
  },
  {
   "cell_type": "markdown",
   "metadata": {},
   "source": [
    "## 3. 파이썬과 배열\n",
    "- 파이썬 리스트 활용\n"
   ]
  },
  {
   "cell_type": "code",
   "execution_count": 8,
   "metadata": {},
   "outputs": [
    {
     "name": "stdout",
     "output_type": "stream",
     "text": [
      "[1, 2, 3, 4, 5]\n"
     ]
    },
    {
     "data": {
      "text/plain": [
       "[1, 2, 3, 4, 5]"
      ]
     },
     "execution_count": 8,
     "metadata": {},
     "output_type": "execute_result"
    }
   ],
   "source": [
    "# 1차원 배열 리스트로 구현시\n",
    "data = [1,2,3,4,5]\n",
    "print(data)\n",
    "data # print 없이 출력 단, 맨끝에 print없이 써져야 한다."
   ]
  },
  {
   "cell_type": "code",
   "execution_count": 10,
   "metadata": {},
   "outputs": [
    {
     "data": {
      "text/plain": [
       "[[1, 2, 3], [4, 5, 6], [7, 8, 9]]"
      ]
     },
     "execution_count": 10,
     "metadata": {},
     "output_type": "execute_result"
    }
   ],
   "source": [
    "# 2ckdnjs qoduf: fltmxmfh rngustl\n",
    "data = [[1,2,3],[4,5,6],[7,8,9]]\n",
    "data"
   ]
  },
  {
   "cell_type": "code",
   "execution_count": 12,
   "metadata": {},
   "outputs": [
    {
     "name": "stdout",
     "output_type": "stream",
     "text": [
      "[1, 2, 3]\n"
     ]
    }
   ],
   "source": [
    "print(data[0])"
   ]
  },
  {
   "cell_type": "code",
   "execution_count": 16,
   "metadata": {},
   "outputs": [
    {
     "name": "stdout",
     "output_type": "stream",
     "text": [
      "1\n",
      "2\n",
      "3\n",
      "4\n"
     ]
    }
   ],
   "source": [
    "print(data[0][0])\n",
    "print(data[0][1])\n",
    "print(data[0][2])\n",
    "print(data[1][0])"
   ]
  },
  {
   "cell_type": "markdown",
   "metadata": {},
   "source": [
    "## 프로그래밍 연습\n",
    "\n",
    "#### 연습1. 위의 2차원 배열에서 9,8,7 출력\n",
    "\n",
    "\n"
   ]
  },
  {
   "cell_type": "code",
   "execution_count": 19,
   "metadata": {},
   "outputs": [
    {
     "name": "stdout",
     "output_type": "stream",
     "text": [
      "9\n",
      "8\n"
     ]
    },
    {
     "data": {
      "text/plain": [
       "7"
      ]
     },
     "execution_count": 19,
     "metadata": {},
     "output_type": "execute_result"
    }
   ],
   "source": [
    "print(data[2][2])\n",
    "print(data[2][1])\n",
    "data[2][0]"
   ]
  },
  {
   "cell_type": "markdown",
   "metadata": {},
   "source": [
    "#### 연습2: 다음 dataset에서 전체 이름 안에 M이 몇번 나왔는지 빈도수 찾기\n"
   ]
  },
  {
   "cell_type": "code",
   "execution_count": 22,
   "metadata": {},
   "outputs": [],
   "source": [
    "dataset = ['Braund, Mr. Owen Harris',\n",
    "    \"'Cumings, Mrs. John Bradley (Florence Briggs Thayer)',\\n\",\n",
    "    \"'Heikkinen, Miss. Laina',\\n\",\n",
    "    \"'Futrelle, Mrs. Jacques Heath (Lily May Peel)',\\n\",\n",
    "    \"'Allen, Mr. William Henry',\\n\",\n",
    "    \"'Moran, Mr. James',\\n\",\n",
    "    \"'McCarthy, Mr. Timothy J',\\n\",\n",
    "    \"'Palsson, Master. Gosta Leonard',\\n\",\n",
    "    \"'Johnson, Mrs. Oscar W (Elisabeth Vilhelmina Berg)',\\n\",\n",
    "    \"'Nasser, Mrs. Nicholas (Adele Achem)',\\n\",\n",
    "    \"'Sandstrom, Miss. Marguerite Rut',\\n\",\n",
    "    \"'Bonnell, Miss. Elizabeth',\\n\",\n",
    "    \"'Saundercock, Mr. William Henry',\\n\",\n",
    "    \"'Andersson, Mr. Anders Johan',\\n\",\n",
    "    \"'Vestrom, Miss. Hulda Amanda Adolfina',\\n\",\n",
    "    \"'Hewlett, Mrs. (Mary D Kingcome) ',\\n\",\n",
    "    \"'Rice, Master. Eugene',\\n\",\n",
    "    \"'Williams, Mr. Charles Eugene',\\n\",\n",
    "    \"'Vander Planke, Mrs. Julius (Emelia Maria Vandemoortele)',\\n\",\n",
    "    \"'Masselmani, Mrs. Fatima',\\n\",\n",
    "    \"'Fynney, Mr. Joseph J',\\n\",\n",
    "    \"'Beesley, Mr. Lawrence',\\n\",\n",
    "    \"'McGowan, Miss. Anna \\\"Annie\\\"',\\n\",\n",
    "    \"'Sloper, Mr. William Thompson',\\n\",\n",
    "    \"'Palsson, Miss. Torborg Danira',\\n\",\n",
    "    \"'Asplund, Mrs. Carl Oscar (Selma Augusta Emilia Johansson)',\\n\",\n",
    "    \"'Emir, Mr. Farred Chehab',\\n\",\n",
    "    \"'Fortune, Mr. Charles Alexander',\\n\",\n",
    "    \"'Dwyer, Miss. Ellen \\\"Nellie\\\"',\\n\",\n",
    "    \"'Todoroff, Mr. Lalio']\"\n",
    "   ]"
   ]
  },
  {
   "cell_type": "code",
   "execution_count": 26,
   "metadata": {},
   "outputs": [
    {
     "name": "stdout",
     "output_type": "stream",
     "text": [
      "38\n"
     ]
    }
   ],
   "source": [
    "m_count = 0\n",
    "for data in dataset:\n",
    "    for index in range(len(data)):\n",
    "        if (data[index])=='M':\n",
    "           m_count+=1 \n",
    "print(m_count)"
   ]
  }
 ],
 "metadata": {
  "kernelspec": {
   "display_name": "Python 3",
   "language": "python",
   "name": "python3"
  },
  "language_info": {
   "codemirror_mode": {
    "name": "ipython",
    "version": 3
   },
   "file_extension": ".py",
   "mimetype": "text/x-python",
   "name": "python",
   "nbconvert_exporter": "python",
   "pygments_lexer": "ipython3",
   "version": "3.6.9"
  }
 },
 "nbformat": 4,
 "nbformat_minor": 2
}
